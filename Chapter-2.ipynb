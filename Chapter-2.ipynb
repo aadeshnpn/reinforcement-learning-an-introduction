{
 "cells": [
  {
   "cell_type": "markdown",
   "metadata": {},
   "source": [
    "# # Chapter 2 Multi-armed Bandits"
   ]
  },
  {
   "cell_type": "markdown",
   "metadata": {},
   "source": [
    "### Important Points\n",
    "* True value of the action is the mean reward when the action is taken overtime\n",
    "* True value can be found using the expectation formula\n",
    "* For k-armed bandit problem, each K actions has an expected/mean reward := Value of the action ($q_*(a)$)\n",
    "* $q_*(a) =  E [R_t|A_t=a]$, is the value but in most of the cases we don't know this value\n",
    "* So we use Action-Value methods <- Esitmates the value of the action and use it to take decision.\n",
    "* $Q_t(a)=\\frac{\\sum_{i=1}^{t-1} R_i \\cdot 1_{A_i=a}}{\\sum_{i=1}^{t-1}1_{A_i=a}}$\n",
    "* Alternatively, $Q_{n+1} = \\frac{\\sum_{i=1}^{n} R_i}{n}$\n",
    "* Now based on the $Q_t(a)$ at time step t, we can choose the best action as $A_t =  argmax_a Q_t(a)$\n",
    "* We can expand the alternative defination of expected value as $Q_{n+1} = Q_n + \\frac{R_n-Q_n}{n}$\n",
    "* In general form, newEstimate <- oldEstimate + stepSize [Target - oldEstimate]\n"
   ]
  },
  {
   "cell_type": "markdown",
   "metadata": {},
   "source": [
    "### Simple Bandit Algorithm Pseudocode\n",
    "* For all actions, initialize $Q(a)\\leftarrow 0, N(a)\\leftarrow 0$ where N(a) is the number of times the action a has been selected\n",
    "* While True:\n",
    "    + $A \\leftarrow argmax_a Q(a)$ with probability 1-$\\epsilon$ or a random action with probability $\\epsilon$\n",
    "    + $R \\leftarrow bandit(A)$ // Reward signal from the environment/bandit\n",
    "    + $N(A)\\leftarrow N(A) + 1$\n",
    "    + $Q(A)\\leftarrow Q(A) + \\frac{R - Q(A)}{N(A)}$"
   ]
  },
  {
   "cell_type": "code",
   "execution_count": null,
   "metadata": {},
   "outputs": [],
   "source": []
  },
  {
   "cell_type": "code",
   "execution_count": null,
   "metadata": {},
   "outputs": [],
   "source": []
  }
 ],
 "metadata": {
  "kernelspec": {
   "display_name": "Python 3",
   "language": "python",
   "name": "python3"
  },
  "language_info": {
   "codemirror_mode": {
    "name": "ipython",
    "version": 3
   },
   "file_extension": ".py",
   "mimetype": "text/x-python",
   "name": "python",
   "nbconvert_exporter": "python",
   "pygments_lexer": "ipython3",
   "version": "3.5.5"
  }
 },
 "nbformat": 4,
 "nbformat_minor": 2
}
