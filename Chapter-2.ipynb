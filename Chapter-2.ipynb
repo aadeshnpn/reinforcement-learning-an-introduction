{
 "cells": [
  {
   "cell_type": "markdown",
   "metadata": {},
   "source": [
    "# # Chapter 2 Multi-armed Bandits"
   ]
  },
  {
   "cell_type": "markdown",
   "metadata": {},
   "source": [
    "### Important Points\n",
    "* True value of the action is the mean reward when the action is taken overtime\n",
    "* True value can be found using the expectation formula\n",
    "* For k-armed bandit problem, each K actions has an expected/mean reward := Value of the action ($q_*(a)$)\n",
    "* $q_*(a) =  E [R_t|A_t=a]$, is the value but in most of the cases we don't know this value\n",
    "* So we use Action-Value methods <- Esitmates the value of the action and use it to take decision.\n",
    "* $Q_t(a)=\\frac{\\sum_{i=1}^{t-1} R_i \\cdot 1_{A_i=a}}{\\sum_{i=1}^{t-1}1_{A_i=a}}$\n",
    "* Alternatively, $Q_{n+1} = \\frac{\\sum_{i=1}^{n} R_i}{n}$\n",
    "* Now based on the $Q_t(a)$ at time step t, we can choose the best action as $A_t =  argmax_a Q_t(a)$\n",
    "* We can expand the alternative defination of expected value as $Q_{n+1} = Q_n + \\frac{R_n-Q_n}{n}$\n",
    "* In general form, newEstimate <- oldEstimate + stepSize [Target - oldEstimate]\n"
   ]
  },
  {
   "cell_type": "markdown",
   "metadata": {},
   "source": [
    "### Simple Bandit Algorithm Pseudocode\n",
    "* For all actions, initialize $Q(a)\\leftarrow 0, N(a)\\leftarrow 0$ where N(a) is the number of times the action a has been selected\n",
    "* While True:\n",
    "    + $A \\leftarrow argmax_a Q(a)$ with probability 1-$\\epsilon$ or a random action with probability $\\epsilon$\n",
    "    + $R \\leftarrow bandit(A)$ // Reward signal from the environment/bandit\n",
    "    + $N(A)\\leftarrow N(A) + 1$\n",
    "    + $Q(A)\\leftarrow Q(A) + \\frac{R - Q(A)}{N(A)}$"
   ]
  },
  {
   "cell_type": "code",
   "execution_count": 1,
   "metadata": {},
   "outputs": [
    {
     "name": "stdout",
     "output_type": "stream",
     "text": [
      "Mean Value Estimate [ 3.31432096 12.11662729  9.85018956 17.07896357  6.75562677  0.\n",
      "  0.          4.85355053 19.94358169 -3.13060835]\n",
      "Action count [   2.    8.    4.    2.    8.    0.    0.  107. 1866.    3.]\n",
      "[(5, 10), (10, 10), (10, 1), (5, 10), (10, 20), (5, 20), (5, 10), (5, 1), (20, 10), (1, 5)]\n"
     ]
    }
   ],
   "source": [
    "# Simple bandit algorithm for k = 10 based on the Pseudo code above\n",
    "# Import statement\n",
    "%matplotlib inline\n",
    "\n",
    "import numpy as np\n",
    "\n",
    "# Define the random state for consistent results\n",
    "random = np.random.RandomState(123)\n",
    "\n",
    "# Bandit class which a normal distribution\n",
    "class Bandit:\n",
    "    # Initialize\n",
    "    def __init__(self, id):\n",
    "        self.id = id\n",
    "        # self.sd = random.randint(1,5,1)[0]\n",
    "        self.sd = random.choice([1, 5, 10, 20])\n",
    "        self.mean = random.choice([1, 5, 10, 20])\n",
    "    \n",
    "    # For printing the object\n",
    "    #def __repr__(self):\n",
    "    #    print (self.mean)\n",
    "    #    print (self.sd)\n",
    "    \n",
    "    # Generate reward for playing this bandit    \n",
    "    def step(self):\n",
    "        return random.normal(self.mean, self.sd, 1)[0]\n",
    "\n",
    "\n",
    "\n",
    "# Define k\n",
    "k = 10\n",
    "\n",
    "# Initialize numpy array of Q and N\n",
    "q_a = np.zeros(k)\n",
    "n_a = np.zeros(k)\n",
    "\n",
    "# Define epsilon\n",
    "epsilon = 0.01\n",
    "\n",
    "# Construct k bandits\n",
    "bandits = []\n",
    "for i in range(k):\n",
    "    bandits.append(Bandit(i))\n",
    "\n",
    "# Main loop    \n",
    "for step in range(2000):\n",
    "    # Explotitation\n",
    "    if random.rand() < (1 - epsilon):\n",
    "        indx = np.argmax(q_a)\n",
    "        \n",
    "        # Check if there are multiple max values\n",
    "        results = q_a[:]==q_a[indx]\n",
    "        \n",
    "        # If there are multiple max values choose the max arg at random\n",
    "        if np.sum(results*1)>1:\n",
    "            action = random.choice(np.argwhere(results==True).flatten())\n",
    "        else:\n",
    "            action = indx\n",
    "    \n",
    "    # Exploration\n",
    "    else:\n",
    "        # Make the action choice at random\n",
    "        action = random.choice(range(0,k))\n",
    "    \n",
    "    # Get the reward from bandit for playing that action\n",
    "    reward = bandits[action].step()\n",
    "    \n",
    "    # Increment the N_A array for taking that action\n",
    "    n_a[action] += 1\n",
    "    \n",
    "    # Update the Q_A / estimate in incremental fashion\n",
    "    # newEstimate <- oldEstimate + stepSize * [Target - oldEstimate]\n",
    "    q_a[action] = q_a[action] + (reward - q_a[action])/n_a[action]\n",
    "        \n",
    "# Print the value of the array to see if everything looks good        \n",
    "print ('Mean Value Estimate', q_a)\n",
    "print ('Action count', n_a)\n",
    "print ([(bandit.mean,bandit.sd) for bandit in bandits])\n"
   ]
  },
  {
   "cell_type": "markdown",
   "metadata": {},
   "source": [
    "### A simple bandit result discussion\n",
    "The simple bandit algorithm did the correct choice by choosing the banding with mean 20 and standard deviation of 10 because it can gain the highest reward by playing this bandit. Furthermore, the mean value estimates shows the value estimate of 19.94 which is almost equal to the real mean value of 20. Thus, simple value exploitation did pretty good on this k-arm bandit task."
   ]
  },
  {
   "cell_type": "markdown",
   "metadata": {},
   "source": [
    "### Notes\n",
    "* The simple bandit algorithm based on Average Value is suitable for stationary bandits i.e where the rewards probability density function don't change.\n",
    "* One of the popular ways to handle non-stationary bandits is to introduce constant step size instead of 1/n. \n",
    "* Using this constant in the formula, gives us a weighted average formula, $Q_{n+1}= (1-\\alpha)^n Q_1 + \\sum_{i=1}^{n}\\alpha (1-\\alpha)^{n-i}R_i$\n",
    "* This formula is sometimes also called exponential recency-weighted average\n",
    "* The cool thing is that the sum of the weights equals to 1 and the weight given to reward R_i depends on how many reswards ago n-1 was seen. \n",
    "* We can choose different values of step size. When step size = 1/n then its the sample-average method and it is guaranteed to converge. But not all the values of step size will converge. So the choice of step size is important. \n",
    "* The conditions for the convergence are $\\sum_{n=1}^{\\infty} \\alpha_n(a) = \\infty$ and $\\sum_{n=1}^{\\infty} \\alpha_n^2(a) < \\infty$\n",
    "* The first conditions says that the steps are large enough to overcome random fluctions and the second condition ensures that the step are small enough to assure convergence.\n",
    "\n",
    "### Exercise 2.4\n",
    "If the step-size parameters are not constant, then the estimate Q_n is will a bit bit different than the equation we saw before. Instead of using the same alpha every time, we need to use the value of alpha from the alpha list in each time step."
   ]
  },
  {
   "cell_type": "markdown",
   "metadata": {},
   "source": [
    "### Exercise 2.5\n",
    "Experiment for various sample-average methods for non-stationary problems"
   ]
  },
  {
   "cell_type": "code",
   "execution_count": 5,
   "metadata": {},
   "outputs": [
    {
     "data": {
      "image/png": "[encoded data removed]",
      "text/plain": [
       "<Figure size 432x288 with 1 Axes>"
      ]
     },
     "metadata": {},
     "output_type": "display_data"
    },
    {
     "name": "stdout",
     "output_type": "stream",
     "text": [
      "Mean Value Estimate [  53.40760137   40.03305054   62.92512607   48.98140916   50.30017832\n",
      "   25.61019974   49.1277202  4580.40930063   75.52259888   73.06814855]\n",
      "Action count [ 115.   84.   92.   87.   92.   85.   83. 9149.  105.  108.]\n",
      "[(5, 10), (5, 10), (10, 20), (5, 1), (20, 10), (5, 20), (10, 20), (5, 1), (20, 20), (20, 1)]\n"
     ]
    }
   ],
   "source": [
    "# Simple bandit algorithm for k = 10 based on the Pseudo code above\n",
    "# Import statement\n",
    "import numpy as np\n",
    "import matplotlib\n",
    "import matplotlib.pyplot as plt\n",
    "\n",
    "# Define the random state for consistent results\n",
    "random = np.random.RandomState(123)\n",
    "\n",
    "# Define no.of trails\n",
    "trails = 10000\n",
    "\n",
    "# Bandit class which a normal distribution\n",
    "class Bandit:\n",
    "    # Initialize\n",
    "    def __init__(self, id):\n",
    "        self.id = id\n",
    "        # self.sd = random.randint(1,5,1)[0]\n",
    "        self.sd = random.choice([1, 5, 10, 20])\n",
    "        self.mean = random.choice([1, 5, 10, 20])\n",
    "        self.reward = random.normal(self.mean, self.sd, 1)[0]\n",
    "    \n",
    "    # For printing the object\n",
    "    #def __repr__(self):\n",
    "    #    print (self.mean)\n",
    "    #    print (self.sd)\n",
    "    \n",
    "    # Generate reward for playing this bandit    \n",
    "    def step(self):\n",
    "        # As the exercise suggest, we need to add a noise of mean 1 and sd 0.01\n",
    "        noise = random.normal(1, 0.01, 1)[0]\n",
    "        self.reward += noise\n",
    "        return self.reward\n",
    "\n",
    "\n",
    "# Define k\n",
    "k = 10\n",
    "\n",
    "# Initialize numpy array of Q and N\n",
    "q_a = np.zeros(k)\n",
    "n_a = np.zeros(k)\n",
    "\n",
    "# Define epsilon\n",
    "epsilon = 0.1\n",
    "\n",
    "# Define alpha/step size\n",
    "alpha = 0.1\n",
    "\n",
    "# Define which method to use for update\n",
    "method = 'I' # Options: I <- incremental, C <- constant step size\n",
    "\n",
    "# Construct k bandits\n",
    "bandits = []\n",
    "for i in range(k):\n",
    "    bandits.append(Bandit(i))\n",
    "\n",
    "# Make a list to store the rewards for 8th arm\n",
    "reward_store = []\n",
    "# Main loop    \n",
    "for step in range(trails):\n",
    "    # Explotitation\n",
    "    if random.rand() < (1 - epsilon):\n",
    "        indx = np.argmax(q_a)\n",
    "        \n",
    "        # Check if there are multiple max values\n",
    "        results = q_a[:]==q_a[indx]\n",
    "        \n",
    "        # If there are multiple max values choose the max arg at random\n",
    "        if np.sum(results*1)>1:\n",
    "            action = random.choice(np.argwhere(results==True).flatten())\n",
    "        else:\n",
    "            action = indx\n",
    "    \n",
    "    # Exploration\n",
    "    else:\n",
    "        # Make the action choice at random\n",
    "        action = random.choice(range(0,k))\n",
    "    \n",
    "    # Get the reward from bandit for playing that action\n",
    "    reward = bandits[action].step()\n",
    "    \n",
    "    # Increment the N_A array for taking that action\n",
    "    n_a[action] += 1\n",
    "    \n",
    "    # Update the Q_A / estimate in incremental fashion\n",
    "    # newEstimate <- oldEstimate + stepSize * [Target - oldEstimate]\n",
    "    if method == 'I':\n",
    "        q_a[action] = q_a[action] + (reward - q_a[action])/n_a[action]\n",
    "    elif method == 'C':\n",
    "        # Update using constant step-size\n",
    "        q_a[action] = q_a[action] + (reward - q_a[action]) * alpha\n",
    "    else:\n",
    "        # No method selected. So no updated\n",
    "        pass\n",
    "    \n",
    "    reward_store.append(np.mean(q_a))\n",
    "    \n",
    "reward_store = np.array(reward_store)\n",
    "plt.plot(list(range(trails)), reward_store)\n",
    "plt.show()\n",
    "# Print the value of the array to see if everything looks good        \n",
    "print ('Mean Value Estimate', q_a)\n",
    "print ('Action count', n_a)\n",
    "print ([(bandit.mean,bandit.sd) for bandit in bandits])\n"
   ]
  },
  {
   "cell_type": "markdown",
   "metadata": {},
   "source": [
    "### Notes\n",
    "* As we have noticed, we need to have an initial estimate of Q_a. For above examples we set it to zero but sometimes it can be used to inject the knowledge the human already have about the system\n",
    "* Also the book gives a awesome example of the use of initial Q_a values to explore more. At first, Q_a is set to 5. But the mean reward is 1 so the algoritm is forced to explore quite a bit before converging to the mean value. Thus the choice of initial values can be used for some tricks and optimisim. \n",
    "\n",
    "### Exercise 2.6\n",
    "At start there are lots of spikes as the resward is set to 5, so the greedy method tries to exploit but next times ends up exploring. This method performs better as all the k bandits are at least choosen once. In normal case, if one of the bandits are never explored, the performance suffers. So this method is better than simple method due to extensive exploration\n",
    "\n",
    "### Exercise 2.7\n",
    "Mathametical analysis done in paper."
   ]
  },
  {
   "cell_type": "markdown",
   "metadata": {},
   "source": [
    "### Notes\n",
    "* Exploration is need so as to check if there are actions which are leftout but could be optimal. Using greedy approach we don't do exploration. With epsilon greedy we do somekind of exploration but still we focus on exploitation. It would be good if we could explore and rank the explored options based on their potential. \n",
    "* Such a method is upper-confidence-bound action selection and its given by $A_t = argmax_a \\big[ Q_t(a) + c  \\sqrt\\frac{\\ln t}{N_t(a)} \\big]$\n",
    "* Upper Confidence Bound (UCB) is that the second term (square root) is the representation of uncertainty. As we use the action a, the denominator N_t(a) increases, thus reducing the uncertainy in the estimate.\n",
    "\n",
    "### Exercise 2.8"
   ]
  },
  {
   "cell_type": "code",
   "execution_count": null,
   "metadata": {},
   "outputs": [],
   "source": []
  }
 ],
 "metadata": {
  "kernelspec": {
   "display_name": "Python 3",
   "language": "python",
   "name": "python3"
  },
  "language_info": {
   "codemirror_mode": {
    "name": "ipython",
    "version": 3
   },
   "file_extension": ".py",
   "mimetype": "text/x-python",
   "name": "python",
   "nbconvert_exporter": "python",
   "pygments_lexer": "ipython3",
   "version": "3.5.5"
  }
 },
 "nbformat": 4,
 "nbformat_minor": 2
}
